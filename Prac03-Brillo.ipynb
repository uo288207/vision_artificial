{
 "cells": [
  {
   "cell_type": "markdown",
   "metadata": {},
   "source": [
    "# **Práctica 3: Brillo y contraste**\n",
    "\n",
    "<img src =\"https://epigijon.uniovi.es/image/image_gallery?uuid=903ae5c8-b29b-430e-980d-1a19a885c736&groupId=3743853&t=1688576582973\" width=300 px>\n",
    "\n",
    "Este cuaderno desarrolla contenidos prácticos de la asignatura **Visión artificial** del Grado en Ciencia e Ingeniería de Datos.\n",
    "\n",
    "***"
   ]
  },
  {
   "cell_type": "markdown",
   "metadata": {},
   "source": [
    "# Histograma\n",
    "\n",
    "Para analizar el brillo y el contraste de una imagen es importante entender el histograma de intensidades. Para ello se va a comenzar la práctica realizando una función para visualizar una imagen junto a su histograma.\n"
   ]
  },
  {
   "cell_type": "markdown",
   "metadata": {},
   "source": [
    "> Implementa una función que dada una imagen realice una visualización conjunta tanto de la imagen como de su histograma y distribución acumulada siguiendo las indicaciones que se muestran a continuación:\n",
    ">\n",
    "> Se debe verificar que la imagen es de tipo uint8. El histograma tendrá 256 bins, desde 0 a 255\n",
    ">\n",
    "> La función debe permitir el uso de imágenes en color o de imágenes en escala de grises\n",
    ">\n",
    "> Para calcular el histograma se debe implementar una función propia\n",
    ">\n",
    "\n",
    "A continuación se muestra algo de ayuda.\n",
    "\n"
   ]
  },
  {
   "cell_type": "code",
   "execution_count": null,
   "metadata": {},
   "outputs": [],
   "source": [
    "# Importar bibliotecas que pueden ser necesarias\n",
    "import matplotlib.pyplot as plt\n",
    "import numpy as np\n",
    "import seaborn as sns\n",
    "import cv2\n",
    "import skimage "
   ]
  },
  {
   "cell_type": "code",
   "execution_count": null,
   "metadata": {
    "tags": []
   },
   "outputs": [],
   "source": [
    "# Creación de la figura\n",
    "width, height = plt.rcParams['figure.figsize']\n",
    "fig, (ax_img, ax_hist) = plt.subplots(1, 2, figsize=(2*width, height))\n",
    "\n",
    "# La primera se usará para la imagen, la segunda para el histograma\n",
    "\n",
    "# Ejemplo de visualización de la imagen\n",
    "img = np.random.randint(0, 256, size=(100, 100), dtype=np.uint8)\n",
    "ax_img.imshow(img, cmap='gray')\n",
    "\n",
    "# Ejemplo de visualización del histograma\n",
    "hist = np.random.randint(0, 256, size=(256,), dtype=np.uint8)\n",
    "ax_hist.bar(np.arange(256), hist)\n",
    "plt.show()"
   ]
  },
  {
   "cell_type": "code",
   "execution_count": null,
   "metadata": {},
   "outputs": [],
   "source": [
    "def iter_channels(color_image):\n",
    "    for channel in np.rollaxis(color_image, -1):\n",
    "        yield channel\n",
    "\n",
    "# Función para visualizar el histograma de una imagen\n",
    "# Esta función está sin terminar\n",
    "def plot_histogram(img):\n",
    "    if img.ndim == 2:\n",
    "        # imagen en escala de grises\n",
    "        pass\n",
    "    elif img.ndim == 3:\n",
    "        # imagen en color\n",
    "        # `channel` es el canal rojo, verde o azul de la imagen.\n",
    "        for channel, channel_color in zip(iter_channels(img), 'rgb'):\n",
    "            # crear histograma de cada canal\n",
    "            pass"
   ]
  },
  {
   "cell_type": "markdown",
   "metadata": {},
   "source": [
    "## Ajuste de contraste lineal\n",
    "\n",
    "Una vez que se tiene la visualización del histograma se puede analizar mejor el brillo y el contraste. También es más fácil entender cómo funcionan los métodos de ajuste de contraste."
   ]
  },
  {
   "cell_type": "markdown",
   "metadata": {},
   "source": [
    "> Crea una función que realice un ajuste de intensidad afín usando la ecuación $s = ra+b$, donde $s$ es el valor del píxel de salida, $r$ el de entrada y $a$ y $b$ son dos constantes. La función debe evitar que el resultado se salga del rango de representación (`np.clip`). Para ello se recomienda realizar una conversión a flotante para realizar las operaciones (`img.astype(np.double)`). Después de la operación se debe volver a convertir a su formato original.\n",
    "\n",
    "> Prueba con diversos valores de $a$ y $b$ y analiza el resultado.\n"
   ]
  },
  {
   "cell_type": "markdown",
   "metadata": {},
   "source": [
    "> Realiza la normalización de la imagen usando $r_{norm} =  \\frac{r - r_{min}} {r_{max} - r_{min}}$, donde $r_{min}$ es el valor de intensidad mínimo de la imagen, y  $r_{max}$ es el máximo. Este tipo de normalización (min-max normalization) debe retornar una imagen en el rango [0, 1]. En el caso de imagen de color, realiza este proceso para cada canal.\n",
    "\n",
    "> Convierte la imagen normalizada al rango [0, 255] (se consigue simplemente multiplicando por 255).\n",
    "\n",
    "> Repite el proceso usando el percentil 2 y 98 como valores de $r_{min}$ y $r_{max}$.\n",
    "\n",
    "> Usa las técnicas anteriores para visualizar la imagen `http://www.atc.uniovi.es/grado/3va/prac/convection.png`\n",
    "\n",
    "\n"
   ]
  },
  {
   "cell_type": "markdown",
   "metadata": {},
   "source": [
    "# Ajuste de contraste no lineal\n",
    "\n",
    "También es posible realizar ajuste con transformaciones no lineales. Una de las posibilidades es el ajuste de sigmoide, $s = \\frac{1}{1 + e^{(\\mathrm{cutoff} - r)\\mathrm{gain}}}$ donde $s$ es el valor de píxel transformado, $r$ es la intensidad de entrada y $\\mathrm{cutoff}$ y $\\mathrm{gain}$ son parámetros. Esta ecuación asume que los valores de entrada están normalizados en el intervalo [0, 1].\n",
    "\n",
    "> Realiza la representación de la función de transformación para $\\mathrm{cutoff} = 0.5$ y $\\mathrm{gain} = 12$.\n",
    "\n"
   ]
  },
  {
   "cell_type": "markdown",
   "metadata": {},
   "source": [
    "Ahora realiza esta mejora de contraste en la imagen `http://www.atc.uniovi.es/grado/3va/prac/persona.png`.\n"
   ]
  }
 ],
 "metadata": {
  "kernelspec": {
   "display_name": ".env",
   "language": "python",
   "name": "python3"
  },
  "language_info": {
   "codemirror_mode": {
    "name": "ipython",
    "version": 3
   },
   "file_extension": ".py",
   "mimetype": "text/x-python",
   "name": "python",
   "nbconvert_exporter": "python",
   "pygments_lexer": "ipython3",
   "version": "3.8.10"
  }
 },
 "nbformat": 4,
 "nbformat_minor": 2
}
