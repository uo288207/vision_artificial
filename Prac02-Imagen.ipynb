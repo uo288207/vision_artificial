{
 "cells": [
  {
   "cell_type": "markdown",
   "metadata": {},
   "source": [
    "# **Práctica 2: Operaciones básicas con imágenes**\n",
    "\n",
    "<img src =\"https://epigijon.uniovi.es/image/image_gallery?uuid=903ae5c8-b29b-430e-980d-1a19a885c736&groupId=3743853&t=1688576582973\" width=300 px>\n",
    "\n",
    "Este cuaderno desarrolla contenidos prácticos de la asignatura **Visión artificial** del Grado en Ciencia e Ingeniería de Datos.\n",
    "\n",
    "***"
   ]
  },
  {
   "cell_type": "markdown",
   "metadata": {},
   "source": [
    "# Lectura y visualización de imágenes\n",
    "\n",
    "Una imagen se forma al convertir la luz captada por un sensor en un conjunto de valores de intensidad luminosa, con un valor asignado a cada celda. Cada unidad individual en la imagen se conoce como píxel (elemento de imagen).\n",
    "\n",
    "Las imágenes adquiridas por un sensor se guardan en un archivo en el disco en una variedad de formatos posibles. Los formatos más frecuentes son PNG, que emplea compresión sin pérdida (lossless compression) y resulta óptimo para el procesamiento de imágenes, y JPG, un formato que utiliza compresión con pérdida (lossy compression) y suele ser preferido en la fotografía digital.\n",
    "\n",
    "El formato de este tipo de ficheros es complejo y, por tanto, es necesario utilizar bibliotecas para su lectura. Entre las bibliotecas más utilizadas para este propósito, destacan OpenCV, Scikit-Image (SKImage) y Python Imaging Library (PIL). Estas herramientas proveen una amplia gama de funciones y utilidades que facilitan la gestión de estos formatos de archivo, permitiendo a los desarrolladores acceder y trabajar con imágenes de manera eficiente.\n",
    "\n"
   ]
  },
  {
   "cell_type": "code",
   "execution_count": null,
   "metadata": {},
   "outputs": [],
   "source": [
    "import numpy as np\n",
    "import cv2\n",
    "import matplotlib.pyplot as plt\n",
    "import skimage"
   ]
  },
  {
   "cell_type": "markdown",
   "metadata": {},
   "source": [
    "A continuación se muestran algunos ejemplos de como leer y visualizar imágenes"
   ]
  },
  {
   "cell_type": "markdown",
   "metadata": {},
   "source": [
    "En primer lugar se descarga la imagen asumiendo que se dispone del programa `curl`."
   ]
  },
  {
   "cell_type": "code",
   "execution_count": null,
   "metadata": {},
   "outputs": [],
   "source": [
    "!curl www.atc.uniovi.es/grado/3va/prac/pez.jpg --output pez.jpg"
   ]
  },
  {
   "cell_type": "markdown",
   "metadata": {},
   "source": [
    "A continuación se utilizará OpenCV para leer la imagen.\n",
    "\n",
    "[OpenCV](https://opencv.org/), que significa \"Open Source Computer Vision Library\" (Biblioteca de Visión por Computador de Código Abierto), es una biblioteca de software de código abierto ampliamente utilizada en el campo de la visión por computador y el procesamiento de imágenes. Fue desarrollada originalmente por Intel y ahora es gestionada por una comunidad de código abierto. OpenCV proporciona un conjunto de herramientas y algoritmos que permiten a los desarrolladores realizar una amplia variedad de tareas relacionadas con la visión por computador, como la detección de objetos, el seguimiento de objetos, el reconocimiento de patrones, la calibración de cámaras y la manipulación de imágenes.\n",
    "\n",
    "Una de las funcionalidades de OpenCV es la lectura de imágenes en diversos formatos."
   ]
  },
  {
   "cell_type": "code",
   "execution_count": null,
   "metadata": {},
   "outputs": [],
   "source": [
    "img = cv2.imread('pez.jpg')\n",
    "print(f\"Type: {type(img)}\")\n",
    "print(f\"Shape: {img.shape}\")\n",
    "print(f\"Dim: {img.ndim}\")\n",
    "num_rows, num_cols, num_colors = img.shape\n",
    "print(f\"Rows: {num_rows}\")\n",
    "print(f\"Columns: {num_cols}\")\n",
    "print(f\"Colors: {num_cols}\")\n",
    "print(f\"DataType: {img.dtype}\")"
   ]
  },
  {
   "cell_type": "markdown",
   "metadata": {},
   "source": [
    "Como se puede observar, el resultado de la lectura de la imagen retorna un array de NumPy. El array tiene tres dimensiones, siendo la tercera dimensión utilizada para el color. Cada color se representa mediante una matriz."
   ]
  },
  {
   "cell_type": "markdown",
   "metadata": {},
   "source": [
    "Para visualizar la imagen se puede usar Matplotlib. Sin embargo es importante saber que, por defecto, OpenCV establece el orden de los canales de color como BGR (debido a razones históricas) y `matplotlib` espera recibir la imagen en formato RGB. Por tanto, para visualizar una imagen leída con OpenCV es necesario trasponer los canales."
   ]
  },
  {
   "cell_type": "code",
   "execution_count": null,
   "metadata": {},
   "outputs": [],
   "source": [
    "img_rgb = cv2.cvtColor(img, cv2.COLOR_BGR2RGB)\n",
    "plt.imshow(img_rgb)\n",
    "plt.show()"
   ]
  },
  {
   "cell_type": "markdown",
   "metadata": {},
   "source": [
    "La conversión de formatos se puede realizar usando OpenCV o directamente con las matrices de NumPy."
   ]
  },
  {
   "cell_type": "code",
   "execution_count": null,
   "metadata": {},
   "outputs": [],
   "source": [
    "img_rgb1 = cv2.cvtColor(img, cv2.COLOR_BGR2RGB)\n",
    "img_rgb2 = img[:, :, ::-1]\n",
    "np.array_equal(img_rgb1, img_rgb2)"
   ]
  },
  {
   "cell_type": "markdown",
   "metadata": {},
   "source": [
    "Matplotlib permite visualizar imágenes en color o en escala de grises. Si se le pasa a la función una matriz, matplotlib asume que se trata de una imagen en escala de grises y configura la visualización para ajustarse al mínimo y máximo de la matriz"
   ]
  },
  {
   "cell_type": "code",
   "execution_count": null,
   "metadata": {},
   "outputs": [],
   "source": [
    "plt.subplot(1,3,1)\n",
    "plt.imshow(img_rgb[:,:,0], cmap='gray')\n",
    "plt.title('Red')\n",
    "print(plt.gci().get_clim())\n",
    "\n",
    "plt.subplot(1,3,2)\n",
    "plt.imshow(img_rgb[:,:,1], cmap='gray')\n",
    "plt.title('Green')\n",
    "print(plt.gci().get_clim())\n",
    "\n",
    "plt.subplot(1,3,3)\n",
    "plt.imshow(img_rgb[:,:,2], cmap='gray')\n",
    "plt.title('Blue')\n",
    "print(plt.gci().get_clim())\n",
    "plt.show()"
   ]
  },
  {
   "cell_type": "markdown",
   "metadata": {},
   "source": [
    "En muchos casos, se convierten las imágenes a formato de número real para realizar diversas operaciones."
   ]
  },
  {
   "cell_type": "code",
   "execution_count": null,
   "metadata": {},
   "outputs": [],
   "source": [
    "img_green = img_rgb[:,:,1]\n",
    "img_green_float = img_green.astype(np.float32) / 255\n",
    "print(f\"Type: {img_green_float.dtype}\")\n",
    "\n",
    "plt.subplot(1,2,1)\n",
    "plt.imshow(img_green, cmap='gray')\n",
    "plt.colorbar()\n",
    "\n",
    "plt.subplot(1,2,2)\n",
    "plt.imshow(img_green_float, cmap='gray')\n",
    "plt.colorbar()\n",
    "plt.show()\n"
   ]
  },
  {
   "cell_type": "code",
   "execution_count": null,
   "metadata": {},
   "outputs": [],
   "source": [
    "img_green = img_rgb[:,:,1]\n",
    "plt.imshow(img_green, cmap='gray')\n",
    "plt.colorbar()\n",
    "print(f\"Visualization limits: {plt.gci().get_clim()}\")\n",
    "plt.show()"
   ]
  },
  {
   "cell_type": "markdown",
   "metadata": {},
   "source": [
    "Los límites se pueden modificar, tal y como se muestra a continuación."
   ]
  },
  {
   "cell_type": "code",
   "execution_count": null,
   "metadata": {},
   "outputs": [],
   "source": [
    "img_green = img_rgb[:,:,1]\n",
    "plt.imshow(img_green, cmap='gray', vmin=25, vmax=75)\n",
    "plt.colorbar()\n",
    "plt.show()"
   ]
  },
  {
   "cell_type": "markdown",
   "metadata": {},
   "source": [
    "En casos de ajuste de contraste, es bueno observar el histograma para determinar donde se encuentra los valores de intensidad de los píxeles."
   ]
  },
  {
   "cell_type": "code",
   "execution_count": null,
   "metadata": {},
   "outputs": [],
   "source": [
    "plt.hist(img_green.ravel(), bins=range(256))\n",
    "plt.show()"
   ]
  },
  {
   "cell_type": "markdown",
   "metadata": {},
   "source": [
    "Además, en el caso de imágenes en escala de grises también se puede configurar el mapa de color."
   ]
  },
  {
   "cell_type": "code",
   "execution_count": null,
   "metadata": {},
   "outputs": [],
   "source": [
    "plt.imshow(img_green, clim=(0, 50), cmap=\"plasma\")\n",
    "plt.colorbar()\n",
    "plt.show()"
   ]
  },
  {
   "cell_type": "markdown",
   "metadata": {},
   "source": [
    "El parámetro `interpolation` en la función `imshow` de Matplotlib se utiliza para especificar el método que se debe utilizar para interpolar valores entre los píxeles de una imagen cuando se muestra en un gráfico. La interpolación es importante cuando se escala una imagen a un tamaño diferente al original, ya que determina cómo se calculan y muestran los valores de los píxeles intermedios.\n",
    "\n",
    "Como se puede observar, puede tener un efecto importante en cómo se muestra una imagen."
   ]
  },
  {
   "cell_type": "code",
   "execution_count": null,
   "metadata": {},
   "outputs": [],
   "source": [
    "size = 1000\n",
    "img_rng = np.random.randint(0, 256, (size, size), dtype=np.uint8)\n",
    "plt.subplot(1,2,1)\n",
    "plt.imshow(img_rng, cmap='gray')\n",
    "plt.subplot(1,2,2)\n",
    "plt.imshow(img_rng, cmap='gray', interpolation=\"none\")\n",
    "plt.show()"
   ]
  },
  {
   "cell_type": "markdown",
   "metadata": {},
   "source": [
    "Otra de las biblioteca importante que se utilizará a lo largo de la asignatura es [scikit-image](https://scikit-image.org/). Scikit-image, comúnmente conocida como \"skimage\", es una biblioteca de Python que forma parte del proyecto SciPy y se utiliza para el procesamiento de imágenes. Esta biblioteca ofrece una amplia gama de herramientas y funciones para realizar diversas tareas relacionadas con el procesamiento de imágenes, desde la carga y manipulación de imágenes hasta el análisis y la mejora de imágenes. "
   ]
  },
  {
   "cell_type": "code",
   "execution_count": null,
   "metadata": {},
   "outputs": [],
   "source": [
    "img = skimage.io.imread('pez.jpg')\n",
    "print(f\"Type: {type(img)}\")\n",
    "print(f\"Shape: {img.shape}\")\n",
    "print(f\"Dim: {img.ndim}\")\n",
    "num_rows, num_cols, num_colors = img.shape\n",
    "print(f\"Rows: {num_rows}\")\n",
    "print(f\"Columns: {num_cols}\")\n",
    "print(f\"Colors: {num_colors}\")\n",
    "print(f\"DataType: {img.dtype}\")\n",
    "plt.imshow(img)\n",
    "plt.show()"
   ]
  },
  {
   "cell_type": "markdown",
   "metadata": {},
   "source": [
    "En este caso la imagen se carga en formato RGB, lista para la visualización."
   ]
  },
  {
   "cell_type": "markdown",
   "metadata": {},
   "source": [
    "# Indexado\n",
    "\n",
    "## Imagen en escala de gris\n",
    "\n",
    "En la indexación de NumPy, la primera dimensión (img.shape[0]) corresponde a las filas, mientras que la segunda (img.shape[1]) corresponde a las columnas, con el origen (img[0, 0]) en la esquina superior izquierda. Esto coincide con la notación de álgebra matricial/lineal, pero es contrario a las coordenadas cartesianas (x, y).\n",
    "\n"
   ]
  },
  {
   "cell_type": "code",
   "execution_count": null,
   "metadata": {},
   "outputs": [],
   "source": [
    "img_green = img[:,:,1].copy()\n",
    "plt.imshow(img_green, cmap='gray')\n",
    "plt.show()"
   ]
  },
  {
   "cell_type": "code",
   "execution_count": null,
   "metadata": {},
   "outputs": [],
   "source": [
    "print(img_green[0, 0])\n",
    "\n",
    "img_green[0, 0] = 255\n",
    "\n",
    "print(img_green[0, 0])\n",
    "\n",
    "img_green[:, 0:500] = 128\n",
    "\n",
    "print(img_green[0, 0])\n",
    "\n",
    "plt.imshow(img_green, cmap='gray')\n",
    "plt.show()"
   ]
  },
  {
   "cell_type": "markdown",
   "metadata": {},
   "source": [
    "El indexado también se puede realizar con una máscara de booleanos"
   ]
  },
  {
   "cell_type": "code",
   "execution_count": null,
   "metadata": {},
   "outputs": [],
   "source": [
    "mask = img_green > 50\n",
    "img_green[mask] = 255\n",
    "plt.imshow(img_green, cmap='gray')\n",
    "print(img_green[0, 0])\n",
    "plt.show()"
   ]
  },
  {
   "cell_type": "markdown",
   "metadata": {},
   "source": [
    "## Imagen en color\n",
    "\n",
    "Todo lo anterior es similar para imágenes en color\n",
    "\n",
    "\n"
   ]
  },
  {
   "cell_type": "code",
   "execution_count": null,
   "metadata": {},
   "outputs": [],
   "source": [
    "img[0, 0]"
   ]
  },
  {
   "cell_type": "code",
   "execution_count": null,
   "metadata": {},
   "outputs": [],
   "source": [
    "img[50, 60] = 0"
   ]
  },
  {
   "cell_type": "code",
   "execution_count": null,
   "metadata": {},
   "outputs": [],
   "source": [
    "img[0:50, 0:50] = [0, 255, 0]\n",
    "plt.imshow(img)"
   ]
  },
  {
   "cell_type": "markdown",
   "metadata": {},
   "source": [
    "## Ejercicio\n",
    "\n",
    "> Crea y visualiza una imagen similar a la siguiente. Es posible que pueda necesitar utilizar la función `np.concatenate((result, img), axis=1)`\n",
    "\n",
    "![](http://www.atc.uniovi.es/grado/3va/prac/colors.png)"
   ]
  },
  {
   "cell_type": "markdown",
   "metadata": {},
   "source": [
    "> Visualiza los canales de color de forma independiente\n",
    ">\n",
    "> Crea un línea horizontal en el centro de la imagen de color blanco.\n",
    ">\n",
    "> Convierte la imagen a escala de grises promediando los colores"
   ]
  },
  {
   "cell_type": "markdown",
   "metadata": {},
   "source": [
    "# Tipos de datos\n",
    "\n",
    "> Analiza el código que aparece a continuación y piensa en el resultado de la ejecución."
   ]
  },
  {
   "cell_type": "code",
   "execution_count": null,
   "metadata": {},
   "outputs": [],
   "source": [
    "img = np.random.randint(0, 256, (50, 50, 3), dtype=\"uint8\")\n",
    "\n",
    "img[0:img.shape[0]//2, 0:img.shape[1]//2] = [255, 0, 0]\n",
    "\n",
    "print(img[0,0,:])\n",
    "plt.imshow(img)\n",
    "plt.show()\n",
    "\n",
    "img = img + 1\n",
    "\n",
    "print(img[0,0,:])\n",
    "plt.imshow(img)\n",
    "plt.show()"
   ]
  },
  {
   "cell_type": "markdown",
   "metadata": {},
   "source": [
    "> ¿Eres capaz de explicar el resultado?\n",
    ">\n",
    "> Determina el tipo de datos utilizado para almacenar cada píxel y su rango de representación."
   ]
  },
  {
   "cell_type": "markdown",
   "metadata": {},
   "source": [
    "Los tipos de datos y los rangos de representación siempre son cuestiones que se deben tener en cuenta. Para evitar la pérdida de precisión en operaciones intermedias es habitual convertir la imagen a otro tipo de dato (`img.astype(np.float64)`). Después de realizar las operaciones se vuele a convertir a tipo de dato original.\n",
    "\n",
    "Ciertas bibliotecas solo admiten imágenes en formato `uint8`. Otras como skimage admiten también imágenes representadas como números reales, donde la intensidad se representa en el rango [0, 1]."
   ]
  },
  {
   "cell_type": "markdown",
   "metadata": {},
   "source": [
    "# Ejercicio sobre máscaras\n",
    "\n",
    "Una máscara no es más que una imagen binaria (cada píxel se representa como un valor booleano) donde se diferencia un elemento de interés (blanco) del fondo (negro)\n",
    "\n",
    "Para evaluar el trabajo con imágenes se propone un ejercicio con máscaras:\n",
    "\n",
    "> Descarga y lee una imagen en color.\n",
    ">\n",
    "> Crea una máscara con el mismo tamaño, canales y tipo de dato que la imagen. Inicialmente la máscara se inicializa con ceros.\n",
    ">\n",
    "> Escribe sobre la máscara tu nombre usando la función `cv2.putText` en blanco. El nombre debe estar centrado respecto a la imagen, para lo que se necesitará utilizar `cv2.getTextSize`.\n",
    ">\n",
    "> Modifica la imagen original, poniendo a color negro todos aquellos píxeles donde la máscara tuviera cero."
   ]
  },
  {
   "cell_type": "markdown",
   "metadata": {},
   "source": [
    "# Formatos\n",
    "\n",
    "Una imagen se puede guardar en diversos formatos. Los más comunes son PNG y JPG. \n",
    "\n",
    "> Descarga una imagen y guárdala en PNG y JPG. El JPG es un formato de que utiliza compresión con pérdida, por lo que será necesario indicar la calidad.\n",
    ">\n",
    "> Reduce progresivamente la calidad y observa cómo afecta al tamaño del archivo y a la calidad de la imagen resultante.\n",
    ">\n",
    "> Realiza un gráfico donde se muestre la relación entre el tamaño y la calidad.\n",
    "\n",
    "Una figura nunca se debe guardar usando los formatos anteriores, ya que perderá calidad. Siempre se debe utilizar algún formato vectorial, PDF o SVG.\n",
    "\n",
    "> Exporta la figura en formato PDF y PNG. Visualiza el resultado y amplia la figura para observar las diferencias."
   ]
  }
 ],
 "metadata": {
  "kernelspec": {
   "display_name": ".env",
   "language": "python",
   "name": "python3"
  },
  "language_info": {
   "codemirror_mode": {
    "name": "ipython",
    "version": 3
   },
   "file_extension": ".py",
   "mimetype": "text/x-python",
   "name": "python",
   "nbconvert_exporter": "python",
   "pygments_lexer": "ipython3",
   "version": "3.8.10"
  }
 },
 "nbformat": 4,
 "nbformat_minor": 2
}
