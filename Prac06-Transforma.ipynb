{
 "cells": [
  {
   "cell_type": "markdown",
   "metadata": {},
   "source": [
    "# **Práctica 6: Transformaciones**\n",
    "\n",
    "<img src =\"https://epigijon.uniovi.es/image/image_gallery?uuid=903ae5c8-b29b-430e-980d-1a19a885c736&groupId=3743853&t=1688576582973\" width=300 px>\n",
    "\n",
    "Este cuaderno desarrolla contenidos prácticos de la asignatura **Visión artificial** del Grado en Ciencia e Ingeniería de Datos.\n",
    "\n",
    "***"
   ]
  },
  {
   "cell_type": "markdown",
   "metadata": {},
   "source": [
    "# Implementación\n",
    "\n",
    "La transformación geométrica en imágenes es un campo fundamental en el procesamiento de imágenes y la visión por computador, abordando la modificación de la posición, orientación y escala de objetos en una imagen. Estas transformaciones, como traslación, rotación y escalado, son cruciales para corregir distorsiones, alinear imágenes, realinear objetos y simular perspectivas. Estas operaciones permiten adaptar la geometría de las imágenes, facilitando diversas aplicaciones, desde la corrección de imperfecciones hasta la manipulación creativa de contenidos visuales."
   ]
  },
  {
   "cell_type": "markdown",
   "metadata": {},
   "source": [
    "Para realizar transformaciones en un espacio 2D a menudo es conveniente trabajar con coordenadas homogéneas. Las coordenadas homogéneas son una extensión del sistema de coordenadas euclidiano que facilita ciertas operaciones matriciales, como las utilizadas en transformaciones geométricas.\n",
    "\n",
    "> Implementa una función para convertir puntos 2D a coordenadas homogéneas. Como entrada se reciben un array de tamaño $2 \\times N$, donde $N$ es el número de puntos. La salida es un array de tamaño $3 \\times N$ añadiendo una fila de unos.\n",
    "\n",
    "> Implementa una función para convertir coordenadas homogéneas a puntos 2D. Como entrada se reciben un array de tamaño $3 \\times N$, donde $N$ es el número de puntos. La salida es un array de tamaño $2 \\times N$ tras dividir las dos primeras filas entre la tercera.\n",
    "\n",
    "> Añade tests usando `np.testing.assert_allclose` para verificar el correcto funcionamiento de las funciones.\n",
    "\n",
    "> Define un conjunto de puntos y verifica su transformación. Utiliza como ejemplo el siguiente [demostrador](https://iis.uibk.ac.at/public/piater/courses/demos/homography/homography.xhtml)"
   ]
  },
  {
   "cell_type": "code",
   "execution_count": 1,
   "metadata": {},
   "outputs": [
    {
     "name": "stdout",
     "output_type": "stream",
     "text": [
      "Todas las pruebas pasaron correctamente.\n"
     ]
    }
   ],
   "source": [
    "import numpy as np\n",
    "\n",
    "def to_homogeneous(points: np.ndarray) -> np.ndarray:\n",
    "    \"\"\"\n",
    "    Convierte puntos 2D a coordenadas homogéneas.\n",
    "    \n",
    "    Args:\n",
    "        points (np.ndarray): Array de tamaño (2, N) con N puntos 2D.\n",
    "    \n",
    "    Returns:\n",
    "        np.ndarray: Array de tamaño (3, N) con coordenadas homogéneas.\n",
    "    \"\"\"\n",
    "    if points.shape[0] != 2:\n",
    "        raise ValueError(\"La entrada debe tener un tamaño de (2, N)\")\n",
    "    \n",
    "    ones = np.ones((1, points.shape[1]))\n",
    "    return np.vstack([points, ones])\n",
    "\n",
    "def from_homogeneous(homogeneous_points: np.ndarray) -> np.ndarray:\n",
    "    \"\"\"\n",
    "    Convierte coordenadas homogéneas a puntos 2D.\n",
    "    \n",
    "    Args:\n",
    "        homogeneous_points (np.ndarray): Array de tamaño (3, N) con N puntos homogéneos.\n",
    "    \n",
    "    Returns:\n",
    "        np.ndarray: Array de tamaño (2, N) con coordenadas 2D.\n",
    "    \"\"\"\n",
    "    if homogeneous_points.shape[0] != 3:\n",
    "        raise ValueError(\"La entrada debe tener un tamaño de (3, N)\")\n",
    "    \n",
    "    return homogeneous_points[:2] / homogeneous_points[2]\n",
    "\n",
    "# Pruebas con np.testing.assert_allclose\n",
    "def test_homogeneous_transformations():\n",
    "    points_2d = np.array([[1, 2, 3], [4, 5, 6]])  # (2,3)\n",
    "    expected_homogeneous = np.array([[1, 2, 3], [4, 5, 6], [1, 1, 1]])  # (3,3)\n",
    "    \n",
    "    # Prueba de conversión a homogéneas\n",
    "    np.testing.assert_allclose(to_homogeneous(points_2d), expected_homogeneous)\n",
    "    \n",
    "    # Prueba de conversión desde homogéneas\n",
    "    np.testing.assert_allclose(from_homogeneous(expected_homogeneous), points_2d)\n",
    "    \n",
    "    print(\"Todas las pruebas pasaron correctamente.\")\n",
    "\n",
    "# Ejecutar pruebas\n",
    "test_homogeneous_transformations()\n"
   ]
  },
  {
   "cell_type": "markdown",
   "metadata": {},
   "source": [
    "> Implementa una función que permita realizar la transformación geométrica de una imagen `def transform_image(img, matrix)` siguiendo los siguientes pasos:\n",
    "\n",
    "> Crea un array con las coordenadas de los límites de la imagen (esquina superior izquierda, derecha, etc.).\n",
    ">\n",
    "> Convierte el array a coordenadas homogéneas, realiza la transformación usando la multiplicación de matrices, y determina los límites mínimos y máximos de las esquinas transformadas.\n",
    ">\n",
    "> Crea un array de puntos entre los punto mínimo y máximo en cada eje usando `np.linspace`. El número de elementos debe ser proporcional al tamaño de la imagen en cada dimensión.\n",
    ">\n",
    "> Crea un grid usando `np.meshgrid`.\n",
    ">\n",
    "> Transforma las coordenadas del grid usando la transformación inversa.\n",
    ">\n",
    "> Para cada canal de la imagen, reinterpola la imagen en las coordenadas transformadas usando `scipy.ndimage.map_coordinates`. Esta función recibe las coordenadas en este orden: primero las filas y luego las columnas. Los datos que retorna está función será necesario convertirlos en matriz usando `reshape`.\n",
    ">\n",
    "> La función debe retornar la imagen transformada y las dimensiones (`[xmin, xmax, ymax, ymin]`)\n",
    ">\n",
    "> Visualiza la imagen usando `imshow(warped, extent=extent)`\n",
    "\n"
   ]
  },
  {
   "cell_type": "code",
   "execution_count": 2,
   "metadata": {},
   "outputs": [],
   "source": [
    "import scipy\n",
    "\n",
    "def transform_image(img: np.ndarray, matrix: np.ndarray):\n",
    "    h, w = img.shape[:2]\n",
    "    \n",
    "    # Coordenadas de las esquinas de la imagen\n",
    "    corners = np.array([[0, w, w, 0], [0, 0, h, h]])\n",
    "    \n",
    "    # Convertir a coordenadas homogéneas y transformar\n",
    "    transformed_corners = from_homogeneous(matrix @ to_homogeneous(corners))\n",
    "    \n",
    "    # Determinar los límites de la imagen transformada\n",
    "    xmin, xmax = transformed_corners[0].min(), transformed_corners[0].max()\n",
    "    ymin, ymax = transformed_corners[1].min(), transformed_corners[1].max()\n",
    "    \n",
    "    # Crear un grid de coordenadas en la imagen transformada\n",
    "    new_x = np.linspace(xmin, xmax, w)\n",
    "    new_y = np.linspace(ymin, ymax, h)\n",
    "    grid_x, grid_y = np.meshgrid(new_x, new_y)\n",
    "    \n",
    "    # Convertir a coordenadas homogéneas e invertir la transformación\n",
    "    grid_homogeneous = to_homogeneous(np.vstack([grid_x.ravel(), grid_y.ravel()]))\n",
    "    inverse_matrix = np.linalg.inv(matrix)\n",
    "    original_coords = from_homogeneous(inverse_matrix @ grid_homogeneous)\n",
    "    \n",
    "    # Interpolar cada canal de la imagen original\n",
    "    warped = np.zeros((h, w, img.shape[2]), dtype=img.dtype)\n",
    "    for i in range(img.shape[2]):\n",
    "        warped[..., i] = scipy.ndimage.map_coordinates(\n",
    "            img[..., i], [original_coords[1], original_coords[0]], order=1, mode='constant'\n",
    "        ).reshape(h, w)\n",
    "    \n",
    "    extent = [xmin, xmax, ymax, ymin]\n",
    "    return warped, extent"
   ]
  },
  {
   "cell_type": "code",
   "execution_count": 3,
   "metadata": {},
   "outputs": [],
   "source": [
    "import matplotlib\n",
    "matplotlib.use('TkAgg')  \n",
    "import matplotlib.pyplot as plt\n",
    "\n",
    "def visualize_transformed_image(img: np.ndarray, matrix: np.ndarray):\n",
    "    warped, extent = transform_image(img, matrix)\n",
    "    plt.imshow(warped, extent=extent)\n",
    "    plt.show()\n"
   ]
  },
  {
   "cell_type": "markdown",
   "metadata": {},
   "source": [
    "> Implementa ejemplos de traslaciones, rotaciones, proyecciones y combinaciones de estas.\n",
    "\n"
   ]
  },
  {
   "cell_type": "code",
   "execution_count": 4,
   "metadata": {},
   "outputs": [],
   "source": [
    "# Definición de transformaciones básicas\n",
    "def translation_matrix(tx, ty):\n",
    "    return np.array([[1, 0, tx], [0, 1, ty], [0, 0, 1]])\n",
    "\n",
    "def rotation_matrix(theta):\n",
    "    return np.array([[np.cos(theta), -np.sin(theta), 0], \n",
    "                     [np.sin(theta), np.cos(theta), 0], \n",
    "                     [0, 0, 1]])\n",
    "\n",
    "def scaling_matrix(sx, sy):\n",
    "    return np.array([[sx, 0, 0], [0, sy, 0], [0, 0, 1]])\n",
    "\n",
    "def projection_matrix(px, py):\n",
    "    return np.array([[1, 0, 0], [0, 1, 0], [px, py, 1]])\n",
    "\n",
    "\n",
    "transformations = {\n",
    "        \"Translation\": translation_matrix(50, 30),\n",
    "        \"Rotation\": rotation_matrix(np.pi / 6),\n",
    "        \"Scaling\": scaling_matrix(1.5, 0.8),\n",
    "        \"Projection\": projection_matrix(0.001, 0.001),\n",
    "        \"Combination\": translation_matrix(50, 30) @ rotation_matrix(np.pi / 6) @ scaling_matrix(1.2, 1.2)\n",
    "    }\n",
    "\n"
   ]
  },
  {
   "cell_type": "code",
   "execution_count": 7,
   "metadata": {},
   "outputs": [],
   "source": [
    "import skimage\n",
    "\n",
    "\n",
    "img= skimage.io.imread(\"s1.jpg\")\n",
    "\n",
    "for name, matrix in transformations.items():\n",
    "        plt.figure()\n",
    "        plt.title(name)\n",
    "        visualize_transformed_image(img, matrix)\n",
    "plt.show(block=True)\n",
    "\n",
    "visualize_transformed_image(img,[[1.35,0.59,100],[0.32,2.31,0],[6.1e-04,1.3e-03,1]])"
   ]
  },
  {
   "cell_type": "markdown",
   "metadata": {},
   "source": [
    "# Estimación\n",
    "\n",
    "La estimación de una transformación se realiza comúnmente utilizando métodos de mínimos cuadrados para minimizar la diferencia entre las coordenadas transformadas y las coordenadas reales de los puntos correspondientes."
   ]
  },
  {
   "cell_type": "markdown",
   "metadata": {},
   "source": [
    "Como ejemplo, se va a estimar una transformación para obtener una imagen frontal de un cuadro."
   ]
  },
  {
   "cell_type": "code",
   "execution_count": 14,
   "metadata": {},
   "outputs": [
    {
     "name": "stderr",
     "output_type": "stream",
     "text": [
      "  % Total    % Received % Xferd  Average Speed   Time    Time     Time  Current\n",
      "                                 Dload  Upload   Total   Spent    Left  Speed\n",
      "\n",
      "  0     0    0     0    0     0      0      0 --:--:-- --:--:-- --:--:--     0\n",
      "100 2862k  100 2862k    0     0  11.0M      0 --:--:-- --:--:-- --:--:-- 11.2M\n"
     ]
    }
   ],
   "source": [
    "!curl http://www.atc.uniovi.es/grado/3va/prac/pareja.png -o pareja.png"
   ]
  },
  {
   "cell_type": "code",
   "execution_count": 7,
   "metadata": {},
   "outputs": [],
   "source": [
    "import skimage.io\n",
    "from skimage import img_as_float\n",
    "img = skimage.io.imread(\"pareja.png\")\n",
    "img = img_as_float(img)\n",
    "plt.imshow(img)\n",
    "plt.show()"
   ]
  },
  {
   "cell_type": "markdown",
   "metadata": {},
   "source": [
    "En este caso, se proporcionan las coordenadas en la imagen en píxeles y las de destino en milímetros."
   ]
  },
  {
   "cell_type": "code",
   "execution_count": 8,
   "metadata": {},
   "outputs": [],
   "source": [
    "src = np.array(\n",
    "    [\n",
    "        [ 240,  218, 1219, 1159],\n",
    "        [ 410, 1498,  212, 1765]\n",
    "    ]\n",
    ")\n",
    "W = 699\n",
    "H = 813\n",
    "dst = np.array(\n",
    "    [\n",
    "        [  0,   0, 699, 699],\n",
    "        [  0, 813,   0, 813]\n",
    "    ]\n",
    ")\n",
    "plt.imshow(img)\n",
    "plt.plot(src[0,:], src[1,:], '.r')\n",
    "plt.show()"
   ]
  },
  {
   "cell_type": "markdown",
   "metadata": {},
   "source": [
    "Para estimar la transformación, dados los puntos en la imagen $(x_i, y_i)$ y sus correspondencias en coordenadas del mundo $(x_i', y_i')$. Se debe resolver el sistema de ecuaciones:\n",
    "\n",
    "$$\n",
    "\\begin{bmatrix}\n",
    "x_1 & y_1 & 1 & 0 & 0 & 0 & -x_1' x_1 & -x_1' y_1 & -x'_1 \\\\\n",
    "0 & 0 & 0 & x_1 & y_1 & 1 & -y'_1 x_1 & -y'_1 y_1 & -y'_1 \\\\\n",
    "x_2 & y_2 & 1 & 0 & 0 & 0 & -x_2' x_2 & -x_2' y_2 & -x'_2 \\\\\n",
    "0 & 0 & 0 & x_2 & y_2 & 1 & -y'_2 x_2 & -y'_2 y_2 & -y'_2 \\\\\n",
    "\\vdots & \\vdots & \\vdots & \\vdots & \\vdots & \\vdots & \\vdots & \\vdots & \\vdots\\\\\n",
    "x_n & y_n & 1 & 0 & 0 & 0 & -x_n' x_n & -x_n' y_n & -x'_n \\\\\n",
    "0 & 0 & 0 & x_n & y_n & 1 & -y'_n x_n & -y'_n y_n & -y'_n \\\\\n",
    "\\end{bmatrix}\n",
    "\\begin{bmatrix}\n",
    "    h_{11} \\\\\n",
    "    h_{12} \\\\\n",
    "    h_{13} \\\\\n",
    "    h_{21} \\\\\n",
    "    h_{22} \\\\\n",
    "    h_{23} \\\\\n",
    "    h_{31} \\\\\n",
    "    h_{32} \\\\\n",
    "    h_{33}\n",
    "\\end{bmatrix} = \\mathbf{0}\n",
    "$$"
   ]
  },
  {
   "cell_type": "markdown",
   "metadata": {},
   "source": [
    "> Para estimar la transformación se deben seguir los siguientes pasos:\n",
    ">\n",
    "> Construye la matriz de coeficientes tal y como se muestra en la ecuación anterior usando todos los puntos disponibles.\n",
    ">\n",
    "> Utiliza la función `scipy.linalg.svd` para obtener la descomposición de valores singulares de la matriz de coeficientes. La solución es la última fila de $V$: `V[-1, :].reshape(3, 3)`.\n",
    ">\n",
    "> Transforma la imagen usando el resultado anterior y verifica el resultado.\n",
    ">\n",
    "> Estima la transformación usando `skimage.transform.estimate_transform` y verifica que proporciona los mismos resultados."
   ]
  },
  {
   "cell_type": "code",
   "execution_count": 9,
   "metadata": {},
   "outputs": [
    {
     "data": {
      "text/plain": [
       "array([[-2.43287917e-03, -4.91942480e-05,  6.04060643e-01],\n",
       "       [-3.51500540e-04, -1.73797489e-03,  7.96929835e-01],\n",
       "       [-1.04563389e-06,  2.36933065e-08, -2.12388346e-03]])"
      ]
     },
     "execution_count": 9,
     "metadata": {},
     "output_type": "execute_result"
    }
   ],
   "source": [
    "# Construcción de la matriz de coeficientes\n",
    "num_points = src.shape[1]\n",
    "A = []\n",
    "\n",
    "for i in range(num_points):\n",
    "    x, y = src[:, i]\n",
    "    x_p, y_p = dst[:, i]\n",
    "    A.append([x, y, 1, 0, 0, 0, -x_p * x, -x_p * y, -x_p])\n",
    "    A.append([0, 0, 0, x, y, 1, -y_p * x, -y_p * y, -y_p])\n",
    "\n",
    "A = np.array(A)\n",
    "\n",
    "# Resolver el sistema usando SVD\n",
    "_, _, V = scipy.linalg.svd(A)\n",
    "V = V[-1, :].reshape(3, 3)\n",
    "\n",
    "# Mostrar la matriz de transformación obtenida\n",
    "V\n"
   ]
  },
  {
   "cell_type": "code",
   "execution_count": 10,
   "metadata": {},
   "outputs": [],
   "source": [
    "import scipy.ndimage\n",
    "\n",
    "def apply_homography(img, V):\n",
    "    \n",
    "    h, w = img.shape[:2]\n",
    "    # Definir las esquinas de la imagen original\n",
    "    corners = np.array([[0, w, w, 0],\n",
    "                        [0, 0, h, h],\n",
    "                        [1, 1, 1, 1]])\n",
    "\n",
    "    # Transformar las esquinas usando V\n",
    "    transformed_corners = V @ corners\n",
    "    transformed_corners /= transformed_corners[2]  \n",
    "\n",
    "    # Obtener los nuevos límites de la imagen transformada\n",
    "    xmin, xmax = transformed_corners[0].min(), transformed_corners[0].max()\n",
    "    ymin, ymax = transformed_corners[1].min(), transformed_corners[1].max()\n",
    "\n",
    "    # Crear una malla de coordenadas en la imagen transformada\n",
    "    new_x = np.linspace(xmin, xmax, w)\n",
    "    new_y = np.linspace(ymin, ymax, h)\n",
    "    grid_x, grid_y = np.meshgrid(new_x, new_y)\n",
    "\n",
    "    # Convertir a coordenadas homogéneas e invertir la transformación\n",
    "    inv_H = np.linalg.inv(V)\n",
    "    grid_homogeneous = np.vstack([grid_x.ravel(), grid_y.ravel(), np.ones(grid_x.size)])\n",
    "    original_coords = inv_H @ grid_homogeneous\n",
    "    original_coords /= original_coords[2]  # Convertir a coordenadas cartesianas\n",
    "\n",
    "    # Interpolar la imagen original en las nuevas coordenadas\n",
    "    warped = np.zeros((h, w, img.shape[2]), dtype=img.dtype) if len(img.shape) == 3 else np.zeros((h, w), dtype=img.dtype)\n",
    "\n",
    "    for i in range(img.shape[2] if len(img.shape) == 3 else 1):\n",
    "        warped[..., i] = scipy.ndimage.map_coordinates(\n",
    "            img[..., i] if len(img.shape) == 3 else img,\n",
    "            [original_coords[1], original_coords[0]],\n",
    "            order=1, mode='constant'\n",
    "        ).reshape(h, w)\n",
    "\n",
    "    return warped, (xmin, xmax, ymin, ymax)\n",
    "\n",
    "# Aplicar la homografía\n",
    "warped_img, extent = apply_homography(img,V)\n",
    "\n",
    "# Visualizar la imagen transformada\n",
    "plt.figure(figsize=(8, 6))\n",
    "plt.imshow(warped_img, extent=extent, cmap='gray' if len(img.shape) == 2 else None)\n",
    "plt.title(\"Imagen Transformada\")\n",
    "plt.show()\n"
   ]
  },
  {
   "cell_type": "code",
   "execution_count": 11,
   "metadata": {},
   "outputs": [
    {
     "name": "stdout",
     "output_type": "stream",
     "text": [
      "\n",
      "Matriz estimada con skimage:\n",
      " [[ 1.14548619e+00  2.31624046e-02 -2.84413271e+02]\n",
      " [ 1.65498977e-01  8.18300496e-01 -3.75222958e+02]\n",
      " [ 4.92321689e-04 -1.11556528e-05  1.00000000e+00]]\n"
     ]
    }
   ],
   "source": [
    "from skimage.transform import estimate_transform\n",
    "\n",
    "# Estimar la homografía usando skimage\n",
    "tform = estimate_transform('projective', src.T, dst.T)\n",
    "\n",
    "# Obtener la matriz de transformación estimada por skimage\n",
    "H_skimage = tform.params\n",
    "\n",
    "print(\"\\nMatriz estimada con skimage:\\n\", H_skimage)\n",
    "\n",
    "# Aplicar la transformación con la matriz de skimage\n",
    "warped_img_skimage, extent_skimage = apply_homography(img, H_skimage)\n",
    "\n",
    "# Visualizar la imagen transformada con skimage\n",
    "plt.figure(figsize=(8, 6))\n",
    "plt.imshow(warped_img_skimage, extent=extent_skimage, cmap='gray' if len(img.shape) == 2 else None)\n",
    "plt.title(\"Imagen Transformada con skimage\")\n",
    "plt.show()\n"
   ]
  }
 ],
 "metadata": {
  "kernelspec": {
   "display_name": ".env",
   "language": "python",
   "name": "python3"
  },
  "language_info": {
   "codemirror_mode": {
    "name": "ipython",
    "version": 3
   },
   "file_extension": ".py",
   "mimetype": "text/x-python",
   "name": "python",
   "nbconvert_exporter": "python",
   "pygments_lexer": "ipython3",
   "version": "3.9.13"
  }
 },
 "nbformat": 4,
 "nbformat_minor": 2
}
