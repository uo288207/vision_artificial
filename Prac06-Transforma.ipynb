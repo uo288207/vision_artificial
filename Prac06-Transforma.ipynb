{
 "cells": [
  {
   "cell_type": "markdown",
   "metadata": {},
   "source": [
    "# **Práctica 6: Transformaciones**\n",
    "\n",
    "<img src =\"https://epigijon.uniovi.es/image/image_gallery?uuid=903ae5c8-b29b-430e-980d-1a19a885c736&groupId=3743853&t=1688576582973\" width=300 px>\n",
    "\n",
    "Este cuaderno desarrolla contenidos prácticos de la asignatura **Visión artificial** del Grado en Ciencia e Ingeniería de Datos.\n",
    "\n",
    "***"
   ]
  },
  {
   "cell_type": "markdown",
   "metadata": {},
   "source": [
    "# Implementación\n",
    "\n",
    "La transformación geométrica en imágenes es un campo fundamental en el procesamiento de imágenes y la visión por computador, abordando la modificación de la posición, orientación y escala de objetos en una imagen. Estas transformaciones, como traslación, rotación y escalado, son cruciales para corregir distorsiones, alinear imágenes, realinear objetos y simular perspectivas. Estas operaciones permiten adaptar la geometría de las imágenes, facilitando diversas aplicaciones, desde la corrección de imperfecciones hasta la manipulación creativa de contenidos visuales."
   ]
  },
  {
   "cell_type": "markdown",
   "metadata": {},
   "source": [
    "Para realizar transformaciones en un espacio 2D a menudo es conveniente trabajar con coordenadas homogéneas. Las coordenadas homogéneas son una extensión del sistema de coordenadas euclidiano que facilita ciertas operaciones matriciales, como las utilizadas en transformaciones geométricas.\n",
    "\n",
    "> Implementa una función para convertir puntos 2D a coordenadas homogéneas. Como entrada se reciben un array de tamaño $2 \\times N$, donde $N$ es el número de puntos. La salida es un array de tamaño $3 \\times N$ añadiendo una fila de unos.\n",
    "\n",
    "> Implementa una función para convertir coordenadas homogéneas a puntos 2D. Como entrada se reciben un array de tamaño $3 \\times N$, donde $N$ es el número de puntos. La salida es un array de tamaño $2 \\times N$ tras dividir las dos primeras filas entre la tercera.\n",
    "\n",
    "> Añade tests usando `np.testing.assert_allclose` para verificar el correcto funcionamiento de las funciones.\n",
    "\n",
    "> Define un conjunto de puntos y verifica su transformación. Utiliza como ejemplo el siguiente [demostrador](https://iis.uibk.ac.at/public/piater/courses/demos/homography/homography.xhtml)"
   ]
  },
  {
   "cell_type": "markdown",
   "metadata": {},
   "source": [
    "> Implementa una función que permita realizar la transformación geométrica de una imagen `def transform_image(img, matrix)` siguiendo los siguientes pasos:\n",
    "\n",
    "> Crea un array con las coordenadas de los límites de la imagen (esquina superior izquierda, derecha, etc.).\n",
    ">\n",
    "> Convierte el array a coordenadas homogéneas, realiza la transformación usando la multiplicación de matrices, y determina los límites mínimos y máximos de las esquinas transformadas.\n",
    ">\n",
    "> Crea un array de puntos entre los punto mínimo y máximo en cada eje usando `np.linspace`. El número de elementos debe ser proporcional al tamaño de la imagen en cada dimensión.\n",
    ">\n",
    "> Crea un grid usando `np.meshgrid`.\n",
    ">\n",
    "> Transforma las coordenadas del grid usando la transformación inversa.\n",
    ">\n",
    "> Para cada canal de la imagen, reinterpola la imagen en las coordenadas transformadas usando `scipy.ndimage.map_coordinates`. Esta función recibe las coordenadas en este orden: primero las filas y luego las columnas. Los datos que retorna está función será necesario convertirlos en matriz usando `reshape`.\n",
    ">\n",
    "> La función debe retornar la imagen transformada y las dimensiones (`[xmin, xmax, ymax, ymin]`)\n",
    ">\n",
    "> Visualiza la imagen usando `imshow(warped, extent=extent)`\n",
    "\n"
   ]
  },
  {
   "cell_type": "markdown",
   "metadata": {},
   "source": [
    "> Implementa ejemplos de traslaciones, rotaciones, proyecciones y combinaciones de estas.\n",
    "\n"
   ]
  },
  {
   "cell_type": "markdown",
   "metadata": {},
   "source": [
    "# Estimación\n",
    "\n",
    "La estimación de una transformación se realiza comúnmente utilizando métodos de mínimos cuadrados para minimizar la diferencia entre las coordenadas transformadas y las coordenadas reales de los puntos correspondientes."
   ]
  },
  {
   "cell_type": "markdown",
   "metadata": {},
   "source": [
    "Como ejemplo, se va a estimar una transformación para obtener una imagen frontal de un cuadro."
   ]
  },
  {
   "cell_type": "code",
   "execution_count": null,
   "metadata": {},
   "outputs": [],
   "source": [
    "!curl http://www.atc.uniovi.es/grado/3va/prac/pareja.png -o pareja.png"
   ]
  },
  {
   "cell_type": "code",
   "execution_count": null,
   "metadata": {},
   "outputs": [],
   "source": [
    "import skimage.io\n",
    "img = skimage.io.imread(\"pareja.png\")\n",
    "img = img_as_float(img)\n",
    "plt.imshow(img)\n",
    "plt.show()"
   ]
  },
  {
   "cell_type": "markdown",
   "metadata": {},
   "source": [
    "En este caso, se proporcionan las coordenadas en la imagen en píxeles y las de destino en milímetros."
   ]
  },
  {
   "cell_type": "code",
   "execution_count": null,
   "metadata": {},
   "outputs": [],
   "source": [
    "src = np.array(\n",
    "    [\n",
    "        [ 240,  218, 1219, 1159],\n",
    "        [ 410, 1498,  212, 1765]\n",
    "    ]\n",
    ")\n",
    "W = 699\n",
    "H = 813\n",
    "dst = np.array(\n",
    "    [\n",
    "        [  0,   0, 699, 699],\n",
    "        [  0, 813,   0, 813]\n",
    "    ]\n",
    ")\n",
    "plt.imshow(img)\n",
    "plt.plot(src[0,:], src[1,:], '.r')\n",
    "plt.show()"
   ]
  },
  {
   "cell_type": "markdown",
   "metadata": {},
   "source": [
    "Para estimar la transformación, dados los puntos en la imagen $(x_i, y_i)$ y sus correspondencias en coordenadas del mundo $(x_i', y_i')$. Se debe resolver el sistema de ecuaciones:\n",
    "\n",
    "$$\n",
    "\\begin{bmatrix}\n",
    "x_1 & y_1 & 1 & 0 & 0 & 0 & -x_1' x_1 & -x_1' y_1 & -x'_1 \\\\\n",
    "0 & 0 & 0 & x_1 & y_1 & 1 & -y'_1 x_1 & -y'_1 y_1 & -y'_1 \\\\\n",
    "x_2 & y_2 & 1 & 0 & 0 & 0 & -x_2' x_2 & -x_2' y_2 & -x'_2 \\\\\n",
    "0 & 0 & 0 & x_2 & y_2 & 1 & -y'_2 x_2 & -y'_2 y_2 & -y'_2 \\\\\n",
    "\\vdots & \\vdots & \\vdots & \\vdots & \\vdots & \\vdots & \\vdots & \\vdots & \\vdots\\\\\n",
    "x_n & y_n & 1 & 0 & 0 & 0 & -x_n' x_n & -x_n' y_n & -x'_n \\\\\n",
    "0 & 0 & 0 & x_n & y_n & 1 & -y'_n x_n & -y'_n y_n & -y'_n \\\\\n",
    "\\end{bmatrix}\n",
    "\\begin{bmatrix}\n",
    "    h_{11} \\\\\n",
    "    h_{12} \\\\\n",
    "    h_{13} \\\\\n",
    "    h_{21} \\\\\n",
    "    h_{22} \\\\\n",
    "    h_{23} \\\\\n",
    "    h_{31} \\\\\n",
    "    h_{32} \\\\\n",
    "    h_{33}\n",
    "\\end{bmatrix} = \\mathbf{0}\n",
    "$$"
   ]
  },
  {
   "cell_type": "markdown",
   "metadata": {},
   "source": [
    "> Para estimar la transformación se deben seguir los siguientes pasos:\n",
    ">\n",
    "> Construye la matriz de coeficientes tal y como se muestra en la ecuación anterior usando todos los puntos disponibles.\n",
    ">\n",
    "> Utiliza la función `scipy.linalg.svd` para obtener la descomposición de valores singulares de la matriz de coeficientes. La solución es la última fila de $V$: `V[-1, :].reshape(3, 3)`.\n",
    ">\n",
    "> Transforma la imagen usando el resultado anterior y verifica el resultado.\n",
    ">\n",
    "> Estima la transformación usando `skimage.transform.estimate_transform` y verifica que proporciona los mismos resultados."
   ]
  }
 ],
 "metadata": {
  "kernelspec": {
   "display_name": ".env",
   "language": "python",
   "name": "python3"
  },
  "language_info": {
   "codemirror_mode": {
    "name": "ipython",
    "version": 3
   },
   "file_extension": ".py",
   "mimetype": "text/x-python",
   "name": "python",
   "nbconvert_exporter": "python",
   "pygments_lexer": "ipython3",
   "version": "3.10.15"
  }
 },
 "nbformat": 4,
 "nbformat_minor": 2
}
