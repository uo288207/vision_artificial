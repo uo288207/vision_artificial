{
 "cells": [
  {
   "cell_type": "markdown",
   "metadata": {},
   "source": [
    "# **Práctica 1: Introducción al entorno de trabajo**\n",
    "\n",
    "<img src =\"https://epigijon.uniovi.es/image/image_gallery?uuid=903ae5c8-b29b-430e-980d-1a19a885c736&groupId=3743853&t=1688576582973\" width=300 px>\n",
    "\n",
    "Este cuaderno desarrolla contenidos prácticos de la asignatura **Visión artificial** del Grado en Ciencia e Ingeniería de Datos.\n",
    "\n",
    "***"
   ]
  },
  {
   "cell_type": "markdown",
   "metadata": {},
   "source": [
    "# Introducción\n",
    "\n",
    "En esta práctica se realizará una introducción a algunos aspectos del entorno de trabajo que se utilizarán a lo largo de la asignatura. Fundamentalmente se utilizará el lenguaje Python y el entorno de desarrollo Visual Studio Code o Colab."
   ]
  },
  {
   "cell_type": "markdown",
   "metadata": {},
   "source": [
    "# Sistema de control de versiones\n",
    "\n",
    "A lo largo del curso se realizarán diversos programas utilizando herramientas y bibliotecas para ejemplificar los conceptos tratados durante el curso. Para organizar todo el código se recomienda crear un repositorio en [GitHub](https://github.com/) que sirva de sistema de control de versiones. El registro en GitHub se debe realizar con la cuenta corporativa de la universidad, para poder obtener los beneficios de la cuenta académica que ofrece la plataforma.\n",
    "\n",
    "> Crea una cuenta en GitHub con la cuenta corporativa de la universidad en caso de que no la tuvieras previamente.\n",
    "\n",
    "> Crea un repositorio para almacenar las prácticas. El repositorio debe ser privado.\n",
    "\n",
    "> Asegúrate de incluir un fichero `.gitignore` para evitar subir ficheros indeseados usando la plantilla de Python. El propio proceso de creación ayuda a automatizar esta cuestión.\n",
    "\n",
    "> Abre el interprete de comandos y clona el repositorio que acabas de crear, por ejemplo:\n",
    ">\n",
    "> ```bash\n",
    "> $ git clone https://github.com/rusamentiaga/testva.git\n",
    "> ```\n",
    ">\n",
    "\n",
    "> Crea un fichero `README.md` y añade tu nombre y una descripción del repositorio.\n",
    "\n",
    "> Añade el fichero al repositorio\n",
    "> ```bash\n",
    "> $ git add README.md\n",
    "> ```\n",
    "\n",
    "> Almacena el fichero en el repositorio y añade un mensaje\n",
    "> ```bash\n",
    "> $ git commit -m \"Se añade fichero de descripción del repositorio\"\n",
    "> ```\n",
    "\n",
    "> Sincroniza el repositorio remotamente\n",
    "> ```bash\n",
    "> $ git push\n",
    "> ```\n",
    "\n",
    "A través de la interfaz web de GitHub, deberías poder ver los cambios.\n",
    "\n",
    "Los comandos `git` más básicos que necesitan son los siguientes:\n",
    "\n",
    "* `git add fichero`: Añade los cambios que hayas realizado en _fichero_ al índice.\n",
    "* `git commit` guarda en el repositorio las modificaciones almacenadas en el índice. Git abrirá un editor para que escribas el _mensaje de commit_, que es un breve resumen de los cambios realizados.\n",
    "* `git status` te muestra el estado de tu carpeta de trabajo, si hay ficheros en ella que `git` no tiene en el repositorio, si hay cambios no guardados en el índice, si hay cosas en el índice que aún no están en el repositorio, etc. \n",
    "* `git log` muestra la historia del repositorio con las fechas de cada _commit_, tus mensajes, etc. `git log --oneline` te da una versión más corta (sólo los mensajes, uno por línea). Junto a cada _commit_ aparece un número hexadecimal que es su identificador y es el que debes usar cuando quieras referirte a un _commit_ concreto, por ejemplo para recuperarlo.\n",
    "* `git pull` descarga los cambios en el repositorio desde un almacén remoto.\n",
    "* `git push` sube los cambios locales a un almacén remoto.\n",
    "\n",
    "Estos comandos son los fundamentales para utilizar Git con un flujo de trabajo simple. Cuando se usa Git en un entorno colaborativo aparecen muchos más comandos y opciones, especialmente en relación al trabajo con ramas. Git es una herramienta que se debe conocer y utilizar, pero está fuera de los objetivos concretos de la asignatura. Puedes encontrar numerosos tutoriales online."
   ]
  },
  {
   "cell_type": "markdown",
   "metadata": {},
   "source": [
    "# Entornos de trabajo virtuales\n",
    "\n",
    "Trabajar con [entornos virtuales en Python](https://docs.python.org/es/3/tutorial/venv.html) es una práctica fundamental para gestionar las dependencias de tus proyectos de manera eficiente. Los entornos virtuales permiten aislar las bibliotecas y paquetes utilizados en un proyecto específico, lo que facilita la gestión de las dependencias y evita conflictos entre versiones.\n",
    "\n",
    "## Creación del entorno\n",
    "\n",
    "Las últimas versiones de Python incluyen la biblioteca `venv` para la gestión de entornos virtuales. \n",
    "\n",
    "Para crear el entorno virtual se debe utilizar el siguiente comando\n",
    "\n",
    "```bash\n",
    "$ python -m venv nombre_del_entorno\n",
    "```\n",
    "\n",
    "se debe reemplazar `nombre_del_entorno` con el nombre que desees para tu entorno virtual. Es habitual utilizar `.env`.\n",
    "\n",
    "## Activación del entorno\n",
    "\n",
    "Para comenzar a trabajar en tu entorno virtual, debes activarlo. La forma de hacerlo depende de tu sistema operativo:\n",
    "\n",
    "En Windows:\n",
    "```bash\n",
    "$ nombre_del_entorno\\Scripts\\activate\n",
    "```\n",
    "\n",
    "En Linux:\n",
    "```bash\n",
    "$ source nombre_del_entorno/bin/activate\n",
    "``` \n",
    "\n",
    "Una vez activado, notarás que el nombre de tu entorno virtual se muestra en el prompt de la terminal, lo que indica que estás trabajando dentro del entorno virtual.\n",
    "\n",
    "## Instalar paquetes en el entorno virtual\n",
    "\n",
    "Dentro del entorno virtual, puedes instalar paquetes y bibliotecas específicas para tu proyecto sin afectar el entorno global de Python. Usa pip para instalar paquetes, por ejemplo:\n",
    "\n",
    "```bash\n",
    "$ pip install nombre_del_paquete\n",
    "``` \n",
    "\n",
    "## Desactivar el entorno virtual\n",
    "\n",
    "Cuando hayas terminado de trabajar en tu proyecto y quieras volver al entorno global de Python, simplemente ejecuta:\n",
    "\n",
    "```bash\n",
    "$ deactivate\n",
    "``` \n",
    "\n",
    "Esto desactivará el entorno virtual y te llevará de vuelta al entorno global de Python.\n",
    "\n",
    "## Eliminar el entorno virtual (opcional)\n",
    "\n",
    "Si deseas eliminar el entorno virtual y sus dependencias, simplemente borra la carpeta del entorno virtual desde tu sistema de archivos. Asegúrate de haber desactivado el entorno virtual antes de hacerlo.\n",
    "\n",
    "\n",
    "## Ejercicio\n",
    "\n",
    "> Crea un entorno virtual\n",
    "\n",
    "> Activa el entorno e instala los paquetes necesarios para poder usar jupyterlab (`pip install jupyterlab`).\n",
    "\n",
    "> Ejecuta jupyter\n",
    ">\n",
    "> ```bash\n",
    "> $ jupyter lab\n",
    "> ```\n",
    "\n",
    "> Verifica su funcionamiento\n",
    "\n",
    "> Crea un cuaderno de ejemplo y sube los cambios al repositorio remoto."
   ]
  },
  {
   "cell_type": "markdown",
   "metadata": {},
   "source": [
    "# Colab\n",
    "\n",
    "<img src=\"https://upload.wikimedia.org/wikipedia/commons/thumb/d/d0/Google_Colaboratory_SVG_Logo.svg/1200px-Google_Colaboratory_SVG_Logo.svg.png\" width=300 px>\n",
    "\n",
    "Colaboratory, o Colab en su forma abreviada, es una plataforma gratuita basada en la nube que permite a los usuarios ejecutar y colaborar en cuadernos Jupyter (Jupyter Notebooks) con acceso a GPU y TPU de Google de forma gratuita. Estos cuadernos son ideales para desarrollar y ejecutar código en lenguajes como Python, así como para realizar investigaciones y análisis de datos de manera colaborativa.\n",
    "\n",
    "## Acceso a Colab\n",
    "\n",
    "Para acceder a Colab, se debe ejecutar el navegador web e ir a la página principal de Google Colab en https://colab.research.google.com/. A continuación se debe iniciar sesión en tu cuenta de Google. Si no tienes una cuenta de Google, puedes crear una de forma gratuita.\n",
    "\n",
    "## Uso de GPU y TPU\n",
    "\n",
    "Colab proporciona acceso gratuito a GPU y TPU de Google, lo que es especialmente útil para tareas de aprendizaje profundo y procesamiento intensivo. Para usar GPU o TPU, se deben seguir estos pasos:\n",
    "\n",
    "* Ve al menú \"Entorno de ejecución\" en la parte superior de la página.\n",
    "\n",
    "* Selecciona \"Cambiar tipo de entorno de ejecución\".\n",
    "\n",
    "* En la ventana emergente, elige \"GPU\" o \"TPU\" en el campo \"Acelerador de hardware\".\n",
    "\n",
    "* Haz clic en \"Guardar\" para confirmar la configuración.\n",
    "\n",
    "## Abrir y guardar cuadernos\n",
    "\n",
    "Hay distintas formas de abrir y guardar los cuadernos realizado en Colab. Entre las opciones disponibles están Google Drive y también GitHub. En ambos casos se puede tanto abrir como guardar.\n",
    "\n",
    "También es posible descargar el cuaderno y guardarlo localmente.\n",
    "\n",
    "## Ejercicio\n",
    "\n",
    "> Abre el cuaderno que habías creado previamente y guardado en GitHub.\n",
    "\n",
    "> Modifica el cuaderno y haz una copia de nuevo en GitHub."
   ]
  },
  {
   "cell_type": "markdown",
   "metadata": {},
   "source": [
    "# Visual Studio Code\n",
    "\n",
    "<img src=\"https://upload.wikimedia.org/wikipedia/commons/thumb/9/9a/Visual_Studio_Code_1.35_icon.svg/113px-Visual_Studio_Code_1.35_icon.svg.png\">\n",
    "\n",
    "[Visual Studio Code](https://code.visualstudio.com/) (VS Code) es un editor de código altamente personalizable y ampliamente utilizado que para desarrollar código en Python. Para habilitar el soporte de Python en Visual Studio Code, es necesario instalar la extensión de Python.\n",
    "\n",
    "En VS Code se puede trabajar tanto con ficheros de Python como con cuadernos, que se pueden ejecutar en entornos virtuales locales. Visual Studio Code tiene muchas características adicionales para mejorar la productividad, como la gestión de paquetes, control de versiones con Git, autocompletado y más. Además existe un gran ecosistema de extensiones que cubren casi cualquier necesidad. A lo largo de las prácticas que se realizarán durante el curso es una herramienta que puede resultar de gran utilidad."
   ]
  },
  {
   "cell_type": "markdown",
   "metadata": {},
   "source": [
    "# Python\n",
    "\n",
    "<img src=\"https://upload.wikimedia.org/wikipedia/commons/thumb/c/c3/Python-logo-notext.svg/200px-Python-logo-notext.svg.png\" width=80>\n",
    "\n",
    "\n",
    "En esta asignatura se utilizará el lenguaje de programación Python para la mayoría de las prácticas debido a la simplicidad de su sintaxis y a la gran variedad de bibliotecas que vienen incorporadas al lenguaje y que hacen posible el abordar los problemas planteados en estas prácticas desde diferentes niveles de abstracción.\n",
    "\n",
    "A lo largo de estas prácticas se asume que el alumnado domina el lenguaje y por tanto no se hará una introducción específica al mismo. Entre los aspectos que hay que dominar del lenguaje se incluyen:\n",
    "\n",
    "* Tipos, variables y expresiones\n",
    "* Lista, cadenas, tuplas y diccionarios\n",
    "* Mutabilidad\n",
    "* Control de flujo\n",
    "* Funciones y clases\n",
    "* Módulos\n",
    "\n",
    "Si no se dominan alguno de estos aspectos se debe buscar información externa sobre ellos.\n",
    "\n",
    "## Ejercicio\n",
    "\n",
    "Para autoevaluar si se tienen los conocimientos mínimos de python realiza el siguiente ejercicio mínimo:\n",
    "\n",
    "> Realiza un programa en Python que determine cuantos números primos hay desde el 0 al 1234567."
   ]
  },
  {
   "cell_type": "markdown",
   "metadata": {},
   "source": [
    "# NumPy\n",
    "\n",
    "<img src=\"https://upload.wikimedia.org/wikipedia/commons/thumb/3/31/NumPy_logo_2020.svg/320px-NumPy_logo_2020.svg.png\">\n",
    "\n",
    "[NumPy](https://numpy.org/) es una  biblioteca de Python utilizada para realizar operaciones matemáticas y numéricas en vectores multidimensionales (tensores) de manera eficiente. Es ampliamente utilizada en la ciencia de datos, el aprendizaje automático y la investigación científica debido a su capacidad para manejar datos numéricos de manera eficiente. De forma general, cuando se trabaje en Python con imágenes se va a trabajar con matrices de NumPy.\n",
    "\n",
    "Hay un gran número de [tutoriales](https://numpy.org/learn/) online que pueden ser de utilidad. En este guion simplemente se hace una breve introducción."
   ]
  },
  {
   "cell_type": "code",
   "execution_count": null,
   "metadata": {},
   "outputs": [],
   "source": [
    "import numpy as np\n",
    "\n",
    "print(f\"Numpy version: {np.__version__}\")"
   ]
  },
  {
   "cell_type": "markdown",
   "metadata": {},
   "source": [
    "Existen dos forma de crear un array en NumPy, a partir de una estructura de datos en Python o con valores predefinidos. A continuación se muestran unos ejemplos"
   ]
  },
  {
   "cell_type": "code",
   "execution_count": null,
   "metadata": {},
   "outputs": [],
   "source": [
    "mi_lista = [1, 2, 3, 4, 5]\n",
    "mi_array = np.array(mi_lista)\n",
    "print(mi_array)"
   ]
  },
  {
   "cell_type": "code",
   "execution_count": null,
   "metadata": {},
   "outputs": [],
   "source": [
    "# Array de ceros\n",
    "ceros = np.zeros(5)\n",
    "\n",
    "# Array de unos\n",
    "unos = np.ones(3)\n",
    "\n",
    "# Array de valores constantes\n",
    "constantes = np.full(4, 7)  # Un Array de 4 elementos con el valor 7\n",
    "\n",
    "print(ceros)\n",
    "print(unos)\n",
    "print(constantes)"
   ]
  },
  {
   "cell_type": "code",
   "execution_count": null,
   "metadata": {},
   "outputs": [],
   "source": [
    "# Array de valores entre 0 y 9 (10 elementos)\n",
    "rango = np.arange(10)\n",
    "\n",
    "# Array de valores entre 1 y 5, con paso de 0.5\n",
    "paso = np.arange(1, 5, 0.5)\n",
    "\n",
    "print(rango)\n",
    "print(paso)"
   ]
  },
  {
   "cell_type": "code",
   "execution_count": null,
   "metadata": {},
   "outputs": [],
   "source": [
    "# Array de números aleatorios entre 0 y 1\n",
    "aleatorios = np.random.rand(3)\n",
    "\n",
    "# Array de números enteros aleatorios entre 1 y 100\n",
    "enteros_aleatorios = np.random.randint(1, 101, 5)  # 5 números aleatorios\n",
    "\n",
    "print(aleatorios)\n",
    "print(enteros_aleatorios)"
   ]
  },
  {
   "cell_type": "code",
   "execution_count": null,
   "metadata": {},
   "outputs": [],
   "source": [
    "# Array de números espaciados\n",
    "espaciados = np.linspace(0, 10, 5)  # 5 números entre 0 y 10, espaciados uniformemente\n",
    "print(espaciados)"
   ]
  },
  {
   "cell_type": "markdown",
   "metadata": {},
   "source": [
    "Los atributos más importantes de un array en NumPy son:\n",
    "* shape: retorna una tupla de enteros que indica el tamaño del array en cada dimensión.\n",
    "* ndim: indica el número de ejes (dimensiones) del array.\n",
    "* size: indica el número total de elementos del array.\n",
    "* dtype: es un objeto que describe el tipo de elementos en el array.\n",
    "* data: es el búfer que contiene los elementos reales del array."
   ]
  },
  {
   "cell_type": "code",
   "execution_count": null,
   "metadata": {},
   "outputs": [],
   "source": [
    "my_numpy_array = np.array([[1,2,3],[4,5,6]])\n",
    "\n",
    "# Atributos\n",
    "print(my_numpy_array)\n",
    "print(my_numpy_array.shape)\n",
    "print(my_numpy_array.ndim)\n",
    "print(my_numpy_array.size)\n",
    "print(my_numpy_array.dtype)\n",
    "print(my_numpy_array.data)"
   ]
  },
  {
   "cell_type": "markdown",
   "metadata": {},
   "source": [
    "NumPy ofrece una amplia variedad de operaciones matemáticas y funciones que puedes aplicar a los arrays."
   ]
  },
  {
   "cell_type": "code",
   "execution_count": null,
   "metadata": {},
   "outputs": [],
   "source": [
    "a = np.array([1, 2, 3])\n",
    "b = np.array([4, 5, 6])\n",
    "\n",
    "# Suma de arreglos\n",
    "suma = a + b\n",
    "\n",
    "# Resta de arreglos\n",
    "resta = a - b\n",
    "\n",
    "# Producto elemento a elemento\n",
    "producto = a * b\n",
    "\n",
    "# División elemento a elemento\n",
    "division = a / b\n",
    "\n",
    "print(suma)\n",
    "print(resta)\n",
    "print(producto)\n",
    "print(division)"
   ]
  },
  {
   "cell_type": "markdown",
   "metadata": {},
   "source": [
    "La gran ventaja de realizar las operaciones de esta forma, además de ser código más legible, es que resulta mucho más eficiente."
   ]
  },
  {
   "cell_type": "markdown",
   "metadata": {},
   "source": [
    "El acceso a un array multidimensional siempre empieza por fila y columna."
   ]
  },
  {
   "cell_type": "code",
   "execution_count": null,
   "metadata": {},
   "outputs": [],
   "source": [
    "my_array = np.array([[1,2,3,4,5],[6,7,8,9,10],[11,12,13,14,15]])\n",
    "\n",
    "print(my_array)\n",
    "print(my_array.shape)\n",
    "\n",
    "row = 1\n",
    "col = 2\n",
    "print(my_array[row, col])"
   ]
  },
  {
   "cell_type": "markdown",
   "metadata": {},
   "source": [
    "El rebanado (slicing) permite acceder a un conjunto de datos."
   ]
  },
  {
   "cell_type": "code",
   "execution_count": null,
   "metadata": {},
   "outputs": [],
   "source": [
    "my_array = np.array([[1,2,3,4,5],[6,7,8,9,10],[11,12,13,14,15]])\n",
    "\n",
    "print(my_array)\n",
    "print(my_array[0:2, 1:3])\n",
    "\n",
    "# Un slide 0:1 implica el acceso a las posiciones 0 y 1. La 2 no se incluye."
   ]
  },
  {
   "cell_type": "markdown",
   "metadata": {},
   "source": [
    "> Para verificar que dominas este importante acceso a porciones de un array, determina el resultado que aparecerá por pantalla antes de ejecutar"
   ]
  },
  {
   "cell_type": "code",
   "execution_count": null,
   "metadata": {},
   "outputs": [],
   "source": [
    "a = np.array([[0, 1, 2, 3, 4, 5], \n",
    "              [6, 7, 8, 9, 10, 11], \n",
    "              [12, 13, 14, 15, 16, 17], \n",
    "              [18, 19, 20, 21, 22, 23], \n",
    "              [24, 25, 26, 27, 28, 29], \n",
    "              [30, 31, 32, 33, 34, 35]])\n",
    "\n",
    "result_1 = a[0, 3:5]\n",
    "result_2 = a[4:, 4:]\n",
    "result_3 = a[:, 2]\n",
    "result_4 = a[2::2, ::2]\n",
    "\n",
    "print(result_1)\n",
    "print(result_2)\n",
    "print(result_3)\n",
    "print(result_4)"
   ]
  },
  {
   "cell_type": "markdown",
   "metadata": {},
   "source": [
    "# Ejercicio\n",
    "\n",
    "> Realiza un programa en python que itere sobre un array de números aleatorios de tamaño 1000x1000 y multiplique cada elemento por dos.\n",
    ">\n",
    "> Realiza ahora el mismo programa usando directamente la multiplicación de array.\n",
    ">\n",
    "> Mide tiempos y compara los resultados.\n"
   ]
  },
  {
   "cell_type": "markdown",
   "metadata": {},
   "source": [
    "La biblioteca NumPy en muchos casos se complementa con SciPy, que proporciona funciones de análisis de datos adicionales."
   ]
  },
  {
   "cell_type": "markdown",
   "metadata": {},
   "source": [
    "# PyTorch\n",
    "\n",
    "<img src=\"https://upload.wikimedia.org/wikipedia/commons/thumb/c/c6/PyTorch_logo_black.svg/180px-PyTorch_logo_black.svg.png\">\n",
    "\n",
    "[PyTorch](https://pytorch.org/) es otra popular biblioteca de aprendizaje automático y desarrollo de redes neuronales que se ha vuelto muy popular en la comunidad de investigación y desarrollo de inteligencia artificial. Una de las estructuras de datos fundamentales en PyTorch es el tensor, que es similar a un array multidimensional NumPy, pero con la capacidad de realizar cálculos en GPU para acelerar el aprendizaje profundo."
   ]
  },
  {
   "cell_type": "code",
   "execution_count": null,
   "metadata": {},
   "outputs": [],
   "source": [
    "import torch\n",
    "print(torch.__version__)"
   ]
  },
  {
   "cell_type": "markdown",
   "metadata": {},
   "source": [
    "En muchos casos el trabajo con tensores en PyTorch es similar al uso de arrays NumPy."
   ]
  },
  {
   "cell_type": "code",
   "execution_count": null,
   "metadata": {},
   "outputs": [],
   "source": [
    "# Crear un tensor de ceros de tamaño (3, 2)\n",
    "tensor_ceros = torch.zeros(3, 2)\n",
    "print(tensor_ceros)\n",
    "\n",
    "# Crear un tensor de unos de tamaño (2, 3)\n",
    "tensor_unos = torch.ones(2, 3)\n",
    "print(tensor_unos)\n",
    "\n",
    "# Crear un tensor desde una lista\n",
    "lista = [1, 2, 3, 4]\n",
    "tensor_desde_lista = torch.tensor(lista)\n",
    "print(tensor_desde_lista)\n",
    "\n",
    "# Crear un tensor desde un arreglo NumPy\n",
    "arreglo_numpy = np.array([5, 6, 7, 8])\n",
    "tensor_desde_numpy = torch.from_numpy(arreglo_numpy)\n",
    "print(tensor_desde_numpy)"
   ]
  },
  {
   "cell_type": "markdown",
   "metadata": {},
   "source": [
    "La parte de operaciones matemáticas también sería similar."
   ]
  },
  {
   "cell_type": "code",
   "execution_count": null,
   "metadata": {},
   "outputs": [],
   "source": [
    "# Crear dos tensores\n",
    "tensor1 = torch.tensor([1, 2, 3])\n",
    "tensor2 = torch.tensor([4, 5, 6])\n",
    "\n",
    "# Suma de tensores\n",
    "suma = tensor1 + tensor2\n",
    "\n",
    "# Resta de tensores\n",
    "resta = tensor1 - tensor2\n",
    "\n",
    "# Producto de tensores (elemento por elemento)\n",
    "producto = tensor1 * tensor2\n",
    "\n",
    "# División de tensores (elemento por elemento)\n",
    "division = tensor1 / tensor2\n",
    "\n",
    "print(suma)\n",
    "print(resta)\n",
    "print(producto)\n",
    "print(division)"
   ]
  },
  {
   "cell_type": "markdown",
   "metadata": {},
   "source": [
    "De forma similar, también se pueden acceder a los atributos."
   ]
  },
  {
   "cell_type": "code",
   "execution_count": null,
   "metadata": {},
   "outputs": [],
   "source": [
    "tensor = torch.zeros(6, 7)\n",
    "\n",
    "# Atributos\n",
    "print(tensor)\n",
    "print(tensor.shape)\n",
    "print(tensor.ndim)\n",
    "print(tensor.size)\n",
    "print(tensor.dtype)\n",
    "print(tensor.data)"
   ]
  },
  {
   "cell_type": "markdown",
   "metadata": {},
   "source": [
    "La gran diferencia respecto a NumPy es la posibilidad de transferir los arrays a la GPU y realizar las operaciones de forma similar."
   ]
  },
  {
   "cell_type": "code",
   "execution_count": null,
   "metadata": {},
   "outputs": [],
   "source": [
    "t = torch.tensor([1,2,3])\n",
    "t.device"
   ]
  },
  {
   "cell_type": "code",
   "execution_count": null,
   "metadata": {},
   "outputs": [],
   "source": [
    "t = t.to(device='cuda')\n",
    "t"
   ]
  },
  {
   "cell_type": "markdown",
   "metadata": {},
   "source": [
    "Las operaciones se realizan de forma transparente."
   ]
  },
  {
   "cell_type": "code",
   "execution_count": null,
   "metadata": {},
   "outputs": [],
   "source": [
    "torch.sin(t)"
   ]
  },
  {
   "cell_type": "code",
   "execution_count": null,
   "metadata": {},
   "outputs": [],
   "source": [
    "t1 = torch.tensor([1,1,1], device='cuda')\n",
    "t2 = torch.tensor([2,2,2], device='cuda')\n",
    "t1 + t2"
   ]
  },
  {
   "cell_type": "markdown",
   "metadata": {},
   "source": [
    "## Ejercicio\n",
    "\n",
    "Para autoevaluar si se han quedado claros los conceptos anteriores realiza el siguiente ejercicio\n",
    "\n",
    "> Realiza un programa en Python que mida cuanto tiempo tarda NumPy y PyTorch (GPU) en multiplicar dos matrices de 1000x1000. Repite la operación 100 veces y calcula le media. Para medir tiempos sobre la GPU es necesario sincronizar las operaciones (usar `torch.cuda.synchronize()` antes de tomar el tiempo de finalización).\n",
    ">\n",
    "> Calcular la aceleración (tiempo en GPU / tiempo en CPU)"
   ]
  },
  {
   "cell_type": "markdown",
   "metadata": {},
   "source": [
    "# Matplotlib, Seaborn y Plotly\n",
    "\n",
    "<img src=\"https://upload.wikimedia.org/wikipedia/en/thumb/5/56/Matplotlib_logo.svg/450px-Matplotlib_logo.svg.png\" width=300 px>\n",
    "\n",
    "<img src=\"https://seaborn.pydata.org/_static/logo-wide-lightbg.svg\" width=300 px>\n",
    "\n",
    "<img src=\"https://upload.wikimedia.org/wikipedia/commons/thumb/8/8a/Plotly-logo.png/330px-Plotly-logo.png\" width=300 px>\n",
    "\n",
    "\n",
    "[Matplotlib](https://matplotlib.org/) y [Seaborn](https://seaborn.pydata.org/) son dos bibliotecas de Python ampliamente utilizadas para la visualización de datos. Matplotlib es una biblioteca de bajo nivel que proporciona gran  flexibilidad para crear gráficos personalizados, mientras que Seaborn es una biblioteca de alto nivel que simplifica la creación de gráficos estadísticos atractivos y informativos. A continuación se muestran unos ejemplos."
   ]
  },
  {
   "cell_type": "code",
   "execution_count": null,
   "metadata": {},
   "outputs": [],
   "source": [
    "import matplotlib.pyplot as plt\n",
    "\n",
    "# Datos\n",
    "x = [1, 2, 3, 4, 5]\n",
    "y = [2, 3, 5, 7, 11]\n",
    "\n",
    "# Crear un gráfico de líneas\n",
    "plt.plot(x, y)\n",
    "\n",
    "# Agregar etiquetas a los ejes y un título\n",
    "plt.xlabel('Eje X')\n",
    "plt.ylabel('Eje Y')\n",
    "plt.title('Gráfico de Líneas')\n",
    "\n",
    "# Mostrar el gráfico\n",
    "plt.show()"
   ]
  },
  {
   "cell_type": "code",
   "execution_count": null,
   "metadata": {},
   "outputs": [],
   "source": [
    "import matplotlib.pyplot as plt\n",
    "\n",
    "# Datos\n",
    "x = [1, 2, 3, 4, 5]\n",
    "y = [2, 3, 5, 7, 11]\n",
    "\n",
    "# Crear un gráfico de dispersión\n",
    "plt.scatter(x, y)\n",
    "\n",
    "# Agregar etiquetas a los ejes y un título\n",
    "plt.xlabel('Eje X')\n",
    "plt.ylabel('Eje Y')\n",
    "plt.title('Gráfico de Dispersión')\n",
    "\n",
    "# Mostrar el gráfico\n",
    "plt.show()"
   ]
  },
  {
   "cell_type": "code",
   "execution_count": null,
   "metadata": {},
   "outputs": [],
   "source": [
    "import matplotlib.pyplot as plt\n",
    "\n",
    "# Datos\n",
    "datos = [2, 2, 3, 3, 3, 4, 4, 5, 5, 6]\n",
    "\n",
    "# Crear un histograma\n",
    "plt.hist(datos, bins=5, edgecolor='k')\n",
    "\n",
    "# Agregar etiquetas a los ejes y un título\n",
    "plt.xlabel('Valores')\n",
    "plt.ylabel('Frecuencia')\n",
    "plt.title('Histograma')\n",
    "\n",
    "# Mostrar el gráfico\n",
    "plt.show()\n"
   ]
  },
  {
   "cell_type": "markdown",
   "metadata": {},
   "source": [
    "A continuación se muestra un resumen de opciones para la biblioteca.\n",
    "\n",
    "![](https://matplotlib.org/cheatsheets/_images/cheatsheets-1.png)\n",
    "\n",
    "![](https://matplotlib.org/cheatsheets/_images/cheatsheets-2.png)\n",
    "\n"
   ]
  },
  {
   "cell_type": "markdown",
   "metadata": {},
   "source": [
    "Seaborn proporciona gráficos en ocasiones similares y en otros casos más especializados, siempre proporcionando un mejor estilo."
   ]
  },
  {
   "cell_type": "code",
   "execution_count": null,
   "metadata": {},
   "outputs": [],
   "source": [
    "import seaborn as sns\n",
    "import matplotlib.pyplot as plt\n",
    "\n",
    "# Datos\n",
    "categorias = ['A', 'B', 'C', 'D']\n",
    "valores = [10, 20, 15, 30]\n",
    "\n",
    "# Crear un gráfico de barras\n",
    "sns.barplot(x=categorias, y=valores)\n",
    "\n",
    "# Agregar etiquetas a los ejes y un título\n",
    "plt.xlabel('Categorías')\n",
    "plt.ylabel('Valores')\n",
    "plt.title('Gráfico de Barras')\n",
    "\n",
    "# Mostrar el gráfico\n",
    "plt.show()\n"
   ]
  },
  {
   "cell_type": "code",
   "execution_count": null,
   "metadata": {},
   "outputs": [],
   "source": [
    "import seaborn as sns\n",
    "import matplotlib.pyplot as plt\n",
    "\n",
    "# Datos (matriz de correlación)\n",
    "correlacion = [[1, 0.8, 0.6],\n",
    "               [0.8, 1, 0.4],\n",
    "               [0.6, 0.4, 1]]\n",
    "\n",
    "# Crear un mapa de calor\n",
    "sns.heatmap(correlacion, annot=True, cmap='coolwarm')\n",
    "\n",
    "# Agregar un título\n",
    "plt.title('Mapa de Calor de Correlación')\n",
    "\n",
    "# Mostrar el gráfico\n",
    "plt.show()\n",
    "\n"
   ]
  },
  {
   "cell_type": "markdown",
   "metadata": {},
   "source": [
    "Estos son solo algunos ejemplos básicos de lo se puede hacer con Matplotlib y Seaborn. Ambas bibliotecas ofrecen una amplia gama de opciones de personalización y funciones avanzadas para crear visualizaciones de datos más complejas y detalladas. "
   ]
  },
  {
   "cell_type": "markdown",
   "metadata": {},
   "source": [
    "[Plotly](https://plotly.com/python/) es otra biblioteca de visualización de datos en Python que  destaca por su capacidad de crear gráficos interactivos y dinámicos. "
   ]
  },
  {
   "cell_type": "code",
   "execution_count": null,
   "metadata": {},
   "outputs": [],
   "source": [
    "import plotly.graph_objs as go\n",
    "\n",
    "# Datos\n",
    "x = [1, 2, 3, 4, 5]\n",
    "y = [2, 3, 5, 7, 11]\n",
    "\n",
    "# Crear un gráfico de líneas\n",
    "trace = go.Scatter(x=x, y=y, mode='lines', name='Línea')\n",
    "\n",
    "# Crear un layout\n",
    "layout = go.Layout(title='Gráfico de Líneas', xaxis=dict(title='Eje X'), yaxis=dict(title='Eje Y'))\n",
    "\n",
    "# Crear una figura\n",
    "fig = go.Figure(data=[trace], layout=layout)\n",
    "\n",
    "# Mostrar el gráfico\n",
    "fig.show()"
   ]
  },
  {
   "cell_type": "code",
   "execution_count": null,
   "metadata": {},
   "outputs": [],
   "source": [
    "import plotly.graph_objs as go\n",
    "\n",
    "# Datos\n",
    "x = [1, 2, 3, 4, 5]\n",
    "y = [2, 3, 5, 7, 11]\n",
    "\n",
    "# Crear un gráfico de dispersión\n",
    "trace = go.Scatter(x=x, y=y, mode='markers', name='Dispersión')\n",
    "\n",
    "# Crear un layout\n",
    "layout = go.Layout(title='Gráfico de Dispersión', xaxis=dict(title='Eje X'), yaxis=dict(title='Eje Y'))\n",
    "\n",
    "# Crear una figura\n",
    "fig = go.Figure(data=[trace], layout=layout)\n",
    "\n",
    "# Mostrar el gráfico\n",
    "fig.show()"
   ]
  },
  {
   "cell_type": "code",
   "execution_count": null,
   "metadata": {},
   "outputs": [],
   "source": [
    "import plotly.graph_objs as go\n",
    "\n",
    "# Datos\n",
    "datos = [2, 2, 3, 3, 3, 4, 4, 5, 5, 6]\n",
    "\n",
    "# Crear un histograma\n",
    "trace = go.Histogram(x=datos, name='Histograma', xbins=dict(start=2, end=7, size=1))\n",
    "\n",
    "# Crear un layout\n",
    "layout = go.Layout(title='Histograma', xaxis=dict(title='Valores'), yaxis=dict(title='Frecuencia'))\n",
    "\n",
    "# Crear una figura\n",
    "fig = go.Figure(data=[trace], layout=layout)\n",
    "\n",
    "# Mostrar el gráfico\n",
    "fig.show()\n"
   ]
  },
  {
   "cell_type": "markdown",
   "metadata": {},
   "source": [
    "La elección entre Matplotlib, Seaborn y Plotly dependerá de las necesidades específicas. Para visualizaciones estáticas y personalizadas, Matplotlib y Seaborn son opciones sólidas. Si se necesitan gráficos interactivos para aplicaciones web o presentaciones dinámicas, Plotly podría ser la elección. En muchos casos, también se pueden combinar estas bibliotecas según los requerimientos.\n"
   ]
  }
 ],
 "metadata": {
  "kernelspec": {
   "display_name": ".env",
   "language": "python",
   "name": "python3"
  },
  "language_info": {
   "codemirror_mode": {
    "name": "ipython",
    "version": 3
   },
   "file_extension": ".py",
   "mimetype": "text/x-python",
   "name": "python",
   "nbconvert_exporter": "python",
   "pygments_lexer": "ipython3",
   "version": "3.8.10"
  }
 },
 "nbformat": 4,
 "nbformat_minor": 2
}
